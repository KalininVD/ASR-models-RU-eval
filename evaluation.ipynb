{
 "cells": [
  {
   "cell_type": "code",
   "execution_count": 1,
   "metadata": {},
   "outputs": [],
   "source": [
    "from datasets import load_dataset\n",
    "from models import get_supported_models\n",
    "from asr_model_evaluator import ASRModelEvaluator"
   ]
  },
  {
   "cell_type": "code",
   "execution_count": null,
   "metadata": {},
   "outputs": [],
   "source": [
    "# dataset = load_dataset(\"VDK/hse_lectures_dataset_private\", split=\"test\")\n",
    "\n",
    "dataset = load_dataset(\"mozilla-foundation/common_voice_17_0\", \"ru\", split=\"test\")\n",
    "dataset = dataset.select_columns([\"audio\", \"sentence\"]).rename_column(\"sentence\", \"transcription\")"
   ]
  },
  {
   "cell_type": "code",
   "execution_count": null,
   "metadata": {},
   "outputs": [],
   "source": [
    "evaluator = ASRModelEvaluator()\n",
    "\n",
    "models = get_supported_models()\n",
    "\n",
    "wer_list = evaluator.evaluate(\n",
    "    metric=\"wer\",\n",
    "    models=models,\n",
    "    data=dataset,\n",
    "    use_text_normalization=True,\n",
    "    use_device=\"cuda\",\n",
    "    verbose=True,\n",
    ")"
   ]
  },
  {
   "cell_type": "code",
   "execution_count": null,
   "metadata": {},
   "outputs": [],
   "source": [
    "max_width = max(len(model_name) for model_name in models)\n",
    "\n",
    "for model_name, wer in sorted(zip(models, wer_list), key=lambda pair: pair[1]):\n",
    "    print(f\"{model_name.ljust(max_width)} -> {wer:.5f}\")"
   ]
  },
  {
   "cell_type": "code",
   "execution_count": null,
   "metadata": {},
   "outputs": [],
   "source": [
    "import matplotlib.pyplot as plt\n",
    "import numpy as np\n",
    "\n",
    "color_map = {\n",
    "    \"SeamlessM4T\": \"#FF5733\",\n",
    "    \"MMS\": \"#FF3322\",\n",
    "    \"NVIDIA\": \"#00FF00\",\n",
    "    \"Whisper\": \"#F0A500\",\n",
    "    \"GigaAM\": \"#88EEDD\",\n",
    "}\n",
    "\n",
    "bar_colors = []\n",
    "for model in models:\n",
    "    if \"SeamlessM4T\" in model:\n",
    "        bar_colors.append(color_map[\"SeamlessM4T\"])\n",
    "    elif \"MMS\" in model:\n",
    "        bar_colors.append(color_map[\"MMS\"])\n",
    "    elif \"NVIDIA\" in model:\n",
    "        bar_colors.append(color_map[\"NVIDIA\"])\n",
    "    elif \"Whisper\" in model:\n",
    "        bar_colors.append(color_map[\"Whisper\"])\n",
    "    elif \"GigaAM\" in model:\n",
    "        bar_colors.append(color_map[\"GigaAM\"])\n",
    "    else:\n",
    "        bar_colors.append(\"#999999\")\n",
    "\n",
    "fig, ax = plt.subplots(figsize=(13, 6))\n",
    "y_pos = np.arange(len(models))\n",
    "ax.barh(y_pos, wer, color=bar_colors, alpha=0.7)\n",
    "\n",
    "ax.set_title(\"Word Error Rate (WER) on custom dataset\")\n",
    "ax.set_xlabel(\"WER (%)\")\n",
    "ax.set_xlim(0, 46)\n",
    "ax.set_xticks(np.arange(0, 50, 5))\n",
    "ax.set_yticks(y_pos)\n",
    "ax.set_yticklabels(models)\n",
    "\n",
    "for i, v in enumerate(wer_list):\n",
    "    ax.text(v + 1, i, f\"{v:.2f}%\", va=\"center\")\n",
    "\n",
    "plt.gca().invert_yaxis()\n",
    "plt.show();"
   ]
  }
 ],
 "metadata": {
  "kernelspec": {
   "display_name": "ASR",
   "language": "python",
   "name": "python3"
  },
  "language_info": {
   "codemirror_mode": {
    "name": "ipython",
    "version": 3
   },
   "file_extension": ".py",
   "mimetype": "text/x-python",
   "name": "python",
   "nbconvert_exporter": "python",
   "pygments_lexer": "ipython3",
   "version": "3.11.9"
  }
 },
 "nbformat": 4,
 "nbformat_minor": 2
}
