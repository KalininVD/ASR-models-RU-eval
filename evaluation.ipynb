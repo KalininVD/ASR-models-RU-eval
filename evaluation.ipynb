{
 "cells": [
  {
   "cell_type": "markdown",
   "metadata": {},
   "source": [
    "# The main evaluation script"
   ]
  },
  {
   "cell_type": "markdown",
   "metadata": {},
   "source": [
    "## Loading data"
   ]
  },
  {
   "cell_type": "code",
   "execution_count": 1,
   "metadata": {},
   "outputs": [],
   "source": [
    "from datasets import load_dataset, Dataset # Make sure you have already installed `datasets` library\n",
    "from functools import partial\n",
    "from models import get_supported_models\n",
    "from asr_model_evaluator import ASRModelEvaluator"
   ]
  },
  {
   "cell_type": "code",
   "execution_count": null,
   "metadata": {},
   "outputs": [
    {
     "data": {
      "application/vnd.jupyter.widget-view+json": {
       "model_id": "4e1299afaec0466f930ce39d1c384bb5",
       "version_major": 2,
       "version_minor": 0
      },
      "text/plain": [
       "Generating train split: 0 examples [00:00, ? examples/s]"
      ]
     },
     "metadata": {},
     "output_type": "display_data"
    },
    {
     "name": "stderr",
     "output_type": "stream",
     "text": [
      "Reading metadata...: 10203it [00:00, 14210.59it/s]\n"
     ]
    }
   ],
   "source": [
    "dataset = load_dataset(\"mozilla-foundation/common_voice_17_0\", \"ru\", split=\"test\",\n",
    "                       token=\"<HF_TOKEN>\", streaming=True,\n",
    "                       trust_remote_code=True) # MCV17 is a gated dataset, therefore HF_TOKEN is required\n",
    "\n",
    "# Here is a trick to create a small dataset without downloading its full version :)\n",
    "def gen_from_iterable_dataset(iterable_ds):\n",
    "    yield from iterable_ds\n",
    "\n",
    "dataset = Dataset.from_generator(\n",
    "    partial(gen_from_iterable_dataset, dataset.shuffle(seed=42).take(100)),\n",
    "    features=dataset.features,\n",
    ")\n",
    "\n",
    "\n",
    "dataset = dataset.select_columns([\"audio\", \"sentence\"]).rename_column(\"sentence\", \"transcription\")\n",
    "# Make sure to use `transcription` column for the transcription of the audio"
   ]
  },
  {
   "cell_type": "markdown",
   "metadata": {},
   "source": [
    "Leaving example dataset since the actual hse_lectures_dataset is not publicly available"
   ]
  },
  {
   "cell_type": "code",
   "execution_count": null,
   "metadata": {},
   "outputs": [],
   "source": [
    "# dataset = load_dataset(\"VDK/hse_lectures_dataset_private\", split=\"test\", token=\"<HF_TOKEN>\")"
   ]
  },
  {
   "cell_type": "markdown",
   "metadata": {},
   "source": [
    "## Perform the evaluation"
   ]
  },
  {
   "cell_type": "code",
   "execution_count": 4,
   "metadata": {},
   "outputs": [],
   "source": [
    "evaluator = ASRModelEvaluator(metric=\"wer\") # Supported metrics are `wer` and `cer`, computing Word or Character Error Rate, respectively"
   ]
  },
  {
   "cell_type": "code",
   "execution_count": 5,
   "metadata": {},
   "outputs": [
    {
     "name": "stdout",
     "output_type": "stream",
     "text": [
      "SeamlessM4T Medium\n",
      "SeamlessM4T Large-v1\n",
      "SeamlessM4T Large-v2\n",
      "MMS-1B FL102\n",
      "MMS-1B L1107\n",
      "MMS-1B All\n",
      "Whisper Tiny\n",
      "Whisper Base\n",
      "Whisper Small\n",
      "Whisper Medium\n",
      "Whisper Large-v1\n",
      "Whisper Large-v2\n",
      "Whisper Large-v3\n",
      "Whisper Turbo\n",
      "NVIDIA STT Multilingual FastConformer Hybrid Transducer-CTC Large P&C\n",
      "NVIDIA STT Ru Conformer-CTC Large\n",
      "NVIDIA FastConformer-Hybrid Large (ru)\n",
      "NVIDIA FastConformer-Hybrid Large (kk-ru)\n",
      "GigaAM CTC-1\n",
      "GigaAM RNNT-1\n",
      "GigaAM CTC-2\n",
      "GigaAM RNNT-2\n"
     ]
    }
   ],
   "source": [
    "models = get_supported_models()\n",
    "\n",
    "print(*models, sep='\\n') # Show all supported models"
   ]
  },
  {
   "cell_type": "code",
   "execution_count": 6,
   "metadata": {},
   "outputs": [
    {
     "data": {
      "application/vnd.jupyter.widget-view+json": {
       "model_id": "88a4fe034a054f6cb900336df9ba153e",
       "version_major": 2,
       "version_minor": 0
      },
      "text/plain": [
       "Splitting each audio in the dataset to speech segments:   0%|          | 0/100 [00:00<?, ? examples/s]"
      ]
     },
     "metadata": {},
     "output_type": "display_data"
    },
    {
     "name": "stdout",
     "output_type": "stream",
     "text": [
      "Evaluating SeamlessM4T Medium\n"
     ]
    },
    {
     "data": {
      "application/vnd.jupyter.widget-view+json": {
       "model_id": "50530e8c95944343b815e342343f518f",
       "version_major": 2,
       "version_minor": 0
      },
      "text/plain": [
       "Dataset progress:   0%|          | 0/100 [00:00<?, ?it/s]"
      ]
     },
     "metadata": {},
     "output_type": "display_data"
    },
    {
     "name": "stdout",
     "output_type": "stream",
     "text": [
      "wer = 0.20512820512820512\n",
      "Evaluating SeamlessM4T Large-v1\n"
     ]
    },
    {
     "data": {
      "application/vnd.jupyter.widget-view+json": {
       "model_id": "bf104f7f78844748979b6334564bc8e7",
       "version_major": 2,
       "version_minor": 0
      },
      "text/plain": [
       "Dataset progress:   0%|          | 0/100 [00:00<?, ?it/s]"
      ]
     },
     "metadata": {},
     "output_type": "display_data"
    },
    {
     "name": "stdout",
     "output_type": "stream",
     "text": [
      "wer = 0.16727716727716727\n",
      "Evaluating SeamlessM4T Large-v2\n"
     ]
    },
    {
     "data": {
      "application/vnd.jupyter.widget-view+json": {
       "model_id": "70dbd608813b4ef98e610077c7e44af0",
       "version_major": 2,
       "version_minor": 0
      },
      "text/plain": [
       "Loading checkpoint shards:   0%|          | 0/2 [00:00<?, ?it/s]"
      ]
     },
     "metadata": {},
     "output_type": "display_data"
    },
    {
     "data": {
      "application/vnd.jupyter.widget-view+json": {
       "model_id": "8f106baa2b824e2c93f6627af7209839",
       "version_major": 2,
       "version_minor": 0
      },
      "text/plain": [
       "Dataset progress:   0%|          | 0/100 [00:00<?, ?it/s]"
      ]
     },
     "metadata": {},
     "output_type": "display_data"
    },
    {
     "name": "stdout",
     "output_type": "stream",
     "text": [
      "wer = 0.13553113553113552\n",
      "Evaluating MMS-1B FL102\n"
     ]
    },
    {
     "data": {
      "application/vnd.jupyter.widget-view+json": {
       "model_id": "1613098c34cb45eea82143441a87841c",
       "version_major": 2,
       "version_minor": 0
      },
      "text/plain": [
       "Dataset progress:   0%|          | 0/100 [00:00<?, ?it/s]"
      ]
     },
     "metadata": {},
     "output_type": "display_data"
    },
    {
     "name": "stdout",
     "output_type": "stream",
     "text": [
      "wer = 0.4053724053724054\n",
      "Evaluating MMS-1B L1107\n"
     ]
    },
    {
     "data": {
      "application/vnd.jupyter.widget-view+json": {
       "model_id": "54bdcdff39a14775942828711e5e1aca",
       "version_major": 2,
       "version_minor": 0
      },
      "text/plain": [
       "Dataset progress:   0%|          | 0/100 [00:00<?, ?it/s]"
      ]
     },
     "metadata": {},
     "output_type": "display_data"
    },
    {
     "name": "stdout",
     "output_type": "stream",
     "text": [
      "wer = 0.4590964590964591\n",
      "Evaluating MMS-1B All\n"
     ]
    },
    {
     "data": {
      "application/vnd.jupyter.widget-view+json": {
       "model_id": "b0432497aa46476ab599214e7b8ff87c",
       "version_major": 2,
       "version_minor": 0
      },
      "text/plain": [
       "Dataset progress:   0%|          | 0/100 [00:00<?, ?it/s]"
      ]
     },
     "metadata": {},
     "output_type": "display_data"
    },
    {
     "name": "stdout",
     "output_type": "stream",
     "text": [
      "wer = 0.2796092796092796\n",
      "Evaluating Whisper Tiny\n"
     ]
    },
    {
     "data": {
      "application/vnd.jupyter.widget-view+json": {
       "model_id": "3f755436556f4261bd276c82307b02ad",
       "version_major": 2,
       "version_minor": 0
      },
      "text/plain": [
       "Dataset progress:   0%|          | 0/100 [00:00<?, ?it/s]"
      ]
     },
     "metadata": {},
     "output_type": "display_data"
    },
    {
     "name": "stdout",
     "output_type": "stream",
     "text": [
      "wer = 0.6385836385836385\n",
      "Evaluating Whisper Base\n"
     ]
    },
    {
     "data": {
      "application/vnd.jupyter.widget-view+json": {
       "model_id": "381dc6a57fd44d829a4d588b1f176b57",
       "version_major": 2,
       "version_minor": 0
      },
      "text/plain": [
       "Dataset progress:   0%|          | 0/100 [00:00<?, ?it/s]"
      ]
     },
     "metadata": {},
     "output_type": "display_data"
    },
    {
     "name": "stdout",
     "output_type": "stream",
     "text": [
      "wer = 0.4358974358974359\n",
      "Evaluating Whisper Small\n"
     ]
    },
    {
     "data": {
      "application/vnd.jupyter.widget-view+json": {
       "model_id": "a83f425f78da4b63a49395d424801112",
       "version_major": 2,
       "version_minor": 0
      },
      "text/plain": [
       "Dataset progress:   0%|          | 0/100 [00:00<?, ?it/s]"
      ]
     },
     "metadata": {},
     "output_type": "display_data"
    },
    {
     "name": "stdout",
     "output_type": "stream",
     "text": [
      "wer = 0.24664224664224665\n",
      "Evaluating Whisper Medium\n"
     ]
    },
    {
     "data": {
      "application/vnd.jupyter.widget-view+json": {
       "model_id": "7292858f7e0e46dbaf6b9a6e8e083054",
       "version_major": 2,
       "version_minor": 0
      },
      "text/plain": [
       "Dataset progress:   0%|          | 0/100 [00:00<?, ?it/s]"
      ]
     },
     "metadata": {},
     "output_type": "display_data"
    },
    {
     "name": "stdout",
     "output_type": "stream",
     "text": [
      "wer = 0.1684981684981685\n",
      "Evaluating Whisper Large-v1\n"
     ]
    },
    {
     "data": {
      "application/vnd.jupyter.widget-view+json": {
       "model_id": "7cb33f9ba33e4f9fb5b95f4dbb4797f3",
       "version_major": 2,
       "version_minor": 0
      },
      "text/plain": [
       "Dataset progress:   0%|          | 0/100 [00:00<?, ?it/s]"
      ]
     },
     "metadata": {},
     "output_type": "display_data"
    },
    {
     "name": "stdout",
     "output_type": "stream",
     "text": [
      "wer = 0.15018315018315018\n",
      "Evaluating Whisper Large-v2\n"
     ]
    },
    {
     "data": {
      "application/vnd.jupyter.widget-view+json": {
       "model_id": "5e905cdf47ee4cea8e1581de4f5edd2c",
       "version_major": 2,
       "version_minor": 0
      },
      "text/plain": [
       "Dataset progress:   0%|          | 0/100 [00:00<?, ?it/s]"
      ]
     },
     "metadata": {},
     "output_type": "display_data"
    },
    {
     "name": "stdout",
     "output_type": "stream",
     "text": [
      "wer = 0.11843711843711843\n",
      "Evaluating Whisper Large-v3\n"
     ]
    },
    {
     "data": {
      "application/vnd.jupyter.widget-view+json": {
       "model_id": "972a7d7a03d04aab99de753c9deba11e",
       "version_major": 2,
       "version_minor": 0
      },
      "text/plain": [
       "Dataset progress:   0%|          | 0/100 [00:00<?, ?it/s]"
      ]
     },
     "metadata": {},
     "output_type": "display_data"
    },
    {
     "name": "stdout",
     "output_type": "stream",
     "text": [
      "wer = 0.09768009768009768\n",
      "Evaluating Whisper Turbo\n"
     ]
    },
    {
     "data": {
      "application/vnd.jupyter.widget-view+json": {
       "model_id": "a81d14d11d2348d7896f62390cfcd6c1",
       "version_major": 2,
       "version_minor": 0
      },
      "text/plain": [
       "Dataset progress:   0%|          | 0/100 [00:00<?, ?it/s]"
      ]
     },
     "metadata": {},
     "output_type": "display_data"
    },
    {
     "name": "stdout",
     "output_type": "stream",
     "text": [
      "wer = 0.16361416361416362\n",
      "Evaluating NVIDIA STT Multilingual FastConformer Hybrid Transducer-CTC Large P&C\n"
     ]
    },
    {
     "data": {
      "application/vnd.jupyter.widget-view+json": {
       "model_id": "44e73c886ebf47c2adcd54de71574cce",
       "version_major": 2,
       "version_minor": 0
      },
      "text/plain": [
       "Dataset progress:   0%|          | 0/100 [00:00<?, ?it/s]"
      ]
     },
     "metadata": {},
     "output_type": "display_data"
    },
    {
     "name": "stdout",
     "output_type": "stream",
     "text": [
      "wer = 0.21001221001221002\n",
      "Evaluating NVIDIA STT Ru Conformer-CTC Large\n"
     ]
    },
    {
     "data": {
      "application/vnd.jupyter.widget-view+json": {
       "model_id": "a7f2d478e90e4125ba6273f0257caa46",
       "version_major": 2,
       "version_minor": 0
      },
      "text/plain": [
       "Dataset progress:   0%|          | 0/100 [00:00<?, ?it/s]"
      ]
     },
     "metadata": {},
     "output_type": "display_data"
    },
    {
     "name": "stdout",
     "output_type": "stream",
     "text": [
      "wer = 0.10989010989010989\n",
      "Evaluating NVIDIA FastConformer-Hybrid Large (ru)\n"
     ]
    },
    {
     "data": {
      "application/vnd.jupyter.widget-view+json": {
       "model_id": "e46798e4a8d14630b40237943cb79104",
       "version_major": 2,
       "version_minor": 0
      },
      "text/plain": [
       "Dataset progress:   0%|          | 0/100 [00:00<?, ?it/s]"
      ]
     },
     "metadata": {},
     "output_type": "display_data"
    },
    {
     "name": "stdout",
     "output_type": "stream",
     "text": [
      "wer = 0.09645909645909646\n",
      "Evaluating NVIDIA FastConformer-Hybrid Large (kk-ru)\n"
     ]
    },
    {
     "data": {
      "application/vnd.jupyter.widget-view+json": {
       "model_id": "a28bf30e41e343228ac7ac62b3d75b43",
       "version_major": 2,
       "version_minor": 0
      },
      "text/plain": [
       "Dataset progress:   0%|          | 0/100 [00:00<?, ?it/s]"
      ]
     },
     "metadata": {},
     "output_type": "display_data"
    },
    {
     "name": "stdout",
     "output_type": "stream",
     "text": [
      "wer = 0.10622710622710622\n",
      "Evaluating GigaAM CTC-1\n"
     ]
    },
    {
     "data": {
      "application/vnd.jupyter.widget-view+json": {
       "model_id": "e291373b12e2485695d4b0bd1c734101",
       "version_major": 2,
       "version_minor": 0
      },
      "text/plain": [
       "Dataset progress:   0%|          | 0/100 [00:00<?, ?it/s]"
      ]
     },
     "metadata": {},
     "output_type": "display_data"
    },
    {
     "name": "stdout",
     "output_type": "stream",
     "text": [
      "wer = 0.27350427350427353\n",
      "Evaluating GigaAM RNNT-1\n"
     ]
    },
    {
     "data": {
      "application/vnd.jupyter.widget-view+json": {
       "model_id": "4e644ca6ed6940649409bce71528cf1f",
       "version_major": 2,
       "version_minor": 0
      },
      "text/plain": [
       "Dataset progress:   0%|          | 0/100 [00:00<?, ?it/s]"
      ]
     },
     "metadata": {},
     "output_type": "display_data"
    },
    {
     "name": "stdout",
     "output_type": "stream",
     "text": [
      "wer = 0.23076923076923078\n",
      "Evaluating GigaAM CTC-2\n"
     ]
    },
    {
     "data": {
      "application/vnd.jupyter.widget-view+json": {
       "model_id": "7b594e9c73634f2cbacd8c7b25201a85",
       "version_major": 2,
       "version_minor": 0
      },
      "text/plain": [
       "Dataset progress:   0%|          | 0/100 [00:00<?, ?it/s]"
      ]
     },
     "metadata": {},
     "output_type": "display_data"
    },
    {
     "name": "stdout",
     "output_type": "stream",
     "text": [
      "wer = 0.05616605616605617\n",
      "Evaluating GigaAM RNNT-2\n"
     ]
    },
    {
     "data": {
      "application/vnd.jupyter.widget-view+json": {
       "model_id": "824ea0db9457409fadf3dea88d83ef55",
       "version_major": 2,
       "version_minor": 0
      },
      "text/plain": [
       "Dataset progress:   0%|          | 0/100 [00:00<?, ?it/s]"
      ]
     },
     "metadata": {},
     "output_type": "display_data"
    },
    {
     "name": "stdout",
     "output_type": "stream",
     "text": [
      "wer = 0.050061050061050064\n"
     ]
    }
   ],
   "source": [
    "wer_list = evaluator.evaluate(\n",
    "    models=models,\n",
    "    data=dataset,\n",
    "    use_text_normalization=True, # Whether to normalize text before computing the metric or not\n",
    "    use_device=\"cuda\", # Change to `cpu` in case CUDA supporting GPU is not available\n",
    "    verbose=True, # Whether to print the progress of the evaluation or not\n",
    ")"
   ]
  },
  {
   "cell_type": "markdown",
   "metadata": {},
   "source": [
    "## Check the results"
   ]
  },
  {
   "cell_type": "markdown",
   "metadata": {},
   "source": [
    "Make plain table with the results"
   ]
  },
  {
   "cell_type": "code",
   "execution_count": 7,
   "metadata": {},
   "outputs": [
    {
     "name": "stdout",
     "output_type": "stream",
     "text": [
      "GigaAM RNNT-2                                                         -> 0.05006\n",
      "GigaAM CTC-2                                                          -> 0.05617\n",
      "NVIDIA FastConformer-Hybrid Large (ru)                                -> 0.09646\n",
      "Whisper Large-v3                                                      -> 0.09768\n",
      "NVIDIA FastConformer-Hybrid Large (kk-ru)                             -> 0.10623\n",
      "NVIDIA STT Ru Conformer-CTC Large                                     -> 0.10989\n",
      "Whisper Large-v2                                                      -> 0.11844\n",
      "SeamlessM4T Large-v2                                                  -> 0.13553\n",
      "Whisper Large-v1                                                      -> 0.15018\n",
      "Whisper Turbo                                                         -> 0.16361\n",
      "SeamlessM4T Large-v1                                                  -> 0.16728\n",
      "Whisper Medium                                                        -> 0.16850\n",
      "SeamlessM4T Medium                                                    -> 0.20513\n",
      "NVIDIA STT Multilingual FastConformer Hybrid Transducer-CTC Large P&C -> 0.21001\n",
      "GigaAM RNNT-1                                                         -> 0.23077\n",
      "Whisper Small                                                         -> 0.24664\n",
      "GigaAM CTC-1                                                          -> 0.27350\n",
      "MMS-1B All                                                            -> 0.27961\n",
      "MMS-1B FL102                                                          -> 0.40537\n",
      "Whisper Base                                                          -> 0.43590\n",
      "MMS-1B L1107                                                          -> 0.45910\n",
      "Whisper Tiny                                                          -> 0.63858\n"
     ]
    }
   ],
   "source": [
    "max_width = max(len(model_name) for model_name in models)\n",
    "\n",
    "for model_name, wer in sorted(zip(models, wer_list), key=lambda pair: pair[1]):\n",
    "    print(f\"{model_name.ljust(max_width)} -> {wer:.5f}\")"
   ]
  },
  {
   "cell_type": "markdown",
   "metadata": {},
   "source": [
    "Plot bar chart with evaluation results"
   ]
  },
  {
   "cell_type": "code",
   "execution_count": 8,
   "metadata": {},
   "outputs": [
    {
     "data": {
      "image/png": "[encoded data removed]",
      "text/plain": [
       "<Figure size 1300x600 with 1 Axes>"
      ]
     },
     "metadata": {},
     "output_type": "display_data"
    }
   ],
   "source": [
    "import matplotlib.pyplot as plt\n",
    "import numpy as np\n",
    "\n",
    "color_map = {\n",
    "    \"SeamlessM4T\": \"#FF5733\",\n",
    "    \"MMS\": \"#FF3322\",\n",
    "    \"NVIDIA\": \"#00FF00\",\n",
    "    \"Whisper\": \"#F0A500\",\n",
    "    \"GigaAM\": \"#88EEDD\",\n",
    "} # Just example colors\n",
    "\n",
    "bar_colors = []\n",
    "for model in models:\n",
    "    if \"SeamlessM4T\" in model:\n",
    "        bar_colors.append(color_map[\"SeamlessM4T\"])\n",
    "    elif \"MMS\" in model:\n",
    "        bar_colors.append(color_map[\"MMS\"])\n",
    "    elif \"NVIDIA\" in model:\n",
    "        bar_colors.append(color_map[\"NVIDIA\"])\n",
    "    elif \"Whisper\" in model:\n",
    "        bar_colors.append(color_map[\"Whisper\"])\n",
    "    elif \"GigaAM\" in model:\n",
    "        bar_colors.append(color_map[\"GigaAM\"])\n",
    "    else:\n",
    "        bar_colors.append(\"#999999\")\n",
    "\n",
    "wer = np.asarray(wer_list) * 100\n",
    "\n",
    "fig, ax = plt.subplots(figsize=(13, 6))\n",
    "y_pos = np.arange(len(models))\n",
    "ax.barh(y_pos, wer, color=bar_colors, alpha=0.7)\n",
    "\n",
    "ax.set_title(\"Word Error Rate (WER) by ASR model\")\n",
    "ax.set_xlabel(\"WER (%)\")\n",
    "ax.set_xlim(0, int(np.max(wer)) + 7)\n",
    "ax.set_xticks(np.arange(0, int(np.max(wer)) + 7, 5))\n",
    "ax.set_yticks(y_pos)\n",
    "ax.set_yticklabels(models)\n",
    "\n",
    "for i, v in enumerate(wer):\n",
    "    ax.text(v + 1, i, f\"{v:.2f}%\", va=\"center\")\n",
    "\n",
    "plt.gca().invert_yaxis()\n",
    "plt.show();"
   ]
  }
 ],
 "metadata": {
  "kernelspec": {
   "display_name": "ASR",
   "language": "python",
   "name": "python3"
  },
  "language_info": {
   "codemirror_mode": {
    "name": "ipython",
    "version": 3
   },
   "file_extension": ".py",
   "mimetype": "text/x-python",
   "name": "python",
   "nbconvert_exporter": "python",
   "pygments_lexer": "ipython3",
   "version": "3.11.9"
  }
 },
 "nbformat": 4,
 "nbformat_minor": 2
}
