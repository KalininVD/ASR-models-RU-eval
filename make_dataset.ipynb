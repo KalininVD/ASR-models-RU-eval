{
 "cells": [
  {
   "cell_type": "code",
   "execution_count": 1,
   "metadata": {},
   "outputs": [],
   "source": [
    "from os import path\n",
    "# Need to install datasets\n",
    "from datasets import load_dataset, DatasetDict, Audio"
   ]
  },
  {
   "cell_type": "code",
   "execution_count": 2,
   "metadata": {},
   "outputs": [],
   "source": [
    "main_path = \"<main_path>\" # main path to the folder with both audio files and transcriptions\n",
    "\n",
    "audio_path = \"audio\" # name of the folder with audio files\n",
    "transcriptions_path = \"transcriptions\" # name of the folder with transcriptions"
   ]
  },
  {
   "cell_type": "code",
   "execution_count": null,
   "metadata": {},
   "outputs": [],
   "source": [
    "audio_ds = load_dataset(\n",
    "    \"audiofolder\",\n",
    "    data_dir=path.join(main_path, audio_path)\n",
    ").cast_column(\"audio\", Audio(sampling_rate=16_000)) # Need to cast all audio files to mono 16kHz\n",
    "                                                    # since most ASR models are trained on 16kHz audio\n",
    "                                                    # and are not supporting any other sampling rates\n",
    "\n",
    "transcriptions_ds = load_dataset(path.join(main_path, transcriptions_path))"
   ]
  },
  {
   "cell_type": "markdown",
   "metadata": {},
   "source": [
    "Add transcriptions to the dataset"
   ]
  },
  {
   "cell_type": "code",
   "execution_count": 4,
   "metadata": {},
   "outputs": [],
   "source": [
    "train_ds = audio_ds[\"train\"].add_column(\"transcription\", transcriptions_ds[\"train\"][\"text\"])\n",
    "test_ds = audio_ds[\"test\"].add_column(\"transcription\", transcriptions_ds[\"test\"][\"text\"])"
   ]
  },
  {
   "cell_type": "code",
   "execution_count": 5,
   "metadata": {},
   "outputs": [],
   "source": [
    "full_ds = DatasetDict(\n",
    "    {\n",
    "        \"train\": train_ds,\n",
    "        \"test\": test_ds,\n",
    "    }\n",
    ")"
   ]
  },
  {
   "cell_type": "markdown",
   "metadata": {},
   "source": [
    "## Look at the data"
   ]
  },
  {
   "cell_type": "code",
   "execution_count": null,
   "metadata": {},
   "outputs": [],
   "source": [
    "full_ds"
   ]
  },
  {
   "cell_type": "code",
   "execution_count": null,
   "metadata": {},
   "outputs": [],
   "source": [
    "full_ds[\"train\"][75]"
   ]
  },
  {
   "cell_type": "markdown",
   "metadata": {},
   "source": [
    "## Push the dataset to Hugging Face repository\n",
    "\n",
    "!! Don't forget to log in to Hugging Face with `huggingface-cli login`"
   ]
  },
  {
   "cell_type": "code",
   "execution_count": null,
   "metadata": {},
   "outputs": [],
   "source": [
    "dataset_name = \"VDK/hse_lectures_dataset_private\"\n",
    "\n",
    "full_ds.push_to_hub(\n",
    "    dataset_name,\n",
    "    private=True,  # Makes the dataset private since it contains not publicly available HSE lectures\n",
    "    max_shard_size=\"300MB\", # Splits the dataset into shards of 300MB each to avoid errors\n",
    ")"
   ]
  },
  {
   "cell_type": "markdown",
   "metadata": {},
   "source": [
    "## Check the dataset"
   ]
  },
  {
   "cell_type": "code",
   "execution_count": null,
   "metadata": {},
   "outputs": [],
   "source": [
    "dataset = load_dataset(dataset_name)"
   ]
  },
  {
   "cell_type": "markdown",
   "metadata": {},
   "source": [
    "Look at the data and check its format"
   ]
  },
  {
   "cell_type": "code",
   "execution_count": null,
   "metadata": {},
   "outputs": [],
   "source": [
    "dataset"
   ]
  },
  {
   "cell_type": "code",
   "execution_count": null,
   "metadata": {},
   "outputs": [],
   "source": [
    "dataset[\"train\"][75]"
   ]
  }
 ],
 "metadata": {
  "kernelspec": {
   "display_name": "ASR",
   "language": "python",
   "name": "python3"
  },
  "language_info": {
   "codemirror_mode": {
    "name": "ipython",
    "version": 3
   },
   "file_extension": ".py",
   "mimetype": "text/x-python",
   "name": "python",
   "nbconvert_exporter": "python",
   "pygments_lexer": "ipython3",
   "version": "3.11.9"
  }
 },
 "nbformat": 4,
 "nbformat_minor": 2
}
