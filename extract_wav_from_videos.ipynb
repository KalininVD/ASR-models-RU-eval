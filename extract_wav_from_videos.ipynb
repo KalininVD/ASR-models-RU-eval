{
 "cells": [
  {
   "cell_type": "markdown",
   "metadata": {},
   "source": [
    "# Service for extracting audio from videos"
   ]
  },
  {
   "cell_type": "code",
   "execution_count": null,
   "metadata": {},
   "outputs": [],
   "source": [
    "%pip install -U pydub\n",
    "%pip install -U moviepy\n",
    "# Installing required Python libraries"
   ]
  },
  {
   "cell_type": "code",
   "execution_count": null,
   "metadata": {},
   "outputs": [],
   "source": [
    "from os import listdir, path, makedirs\n",
    "\n",
    "from pydub.utils import mediainfo\n",
    "from moviepy import AudioFileClip"
   ]
  },
  {
   "cell_type": "markdown",
   "metadata": {},
   "source": [
    "Helper function to extract audio from video files"
   ]
  },
  {
   "cell_type": "code",
   "execution_count": null,
   "metadata": {},
   "outputs": [],
   "source": [
    "def extract_audio_from_video(video_path: str, audio_path: str) -> None:\n",
    "   \"\"\"Extracts audio from video and saves it to the specified path\"\"\"\n",
    "\n",
    "   info = mediainfo(video_path)\n",
    "   sample_rate = int(info[\"sample_rate\"]) # Important: use original sample rate\n",
    "\n",
    "   with AudioFileClip(filename=video_path, fps=sample_rate) as audio_clip:\n",
    "      audio_clip.write_audiofile(filename=audio_path, fps=sample_rate)"
   ]
  },
  {
   "cell_type": "markdown",
   "metadata": {},
   "source": [
    "Set up video and audio files paths"
   ]
  },
  {
   "cell_type": "code",
   "execution_count": null,
   "metadata": {},
   "outputs": [],
   "source": [
    "in_path = \"<video_path>\"\n",
    "out_path = \"<audio_path>\""
   ]
  },
  {
   "cell_type": "markdown",
   "metadata": {},
   "source": [
    "Perform the extraction"
   ]
  },
  {
   "cell_type": "code",
   "execution_count": null,
   "metadata": {},
   "outputs": [],
   "source": [
    "for dirname in sorted(listdir(in_path)):\n",
    "    in_dirpath = path.join(in_path, dirname)\n",
    "    out_dirpath = path.join(out_path, dirname)\n",
    "    makedirs(out_dirpath, exist_ok=True)\n",
    "\n",
    "    for filename in sorted(listdir(in_dirpath)):\n",
    "        video_path = path.join(in_dirpath, filename)\n",
    "        audio_path = path.join(out_dirpath, filename[:filename.rfind('.')] + '.wav')\n",
    "        extract_audio_from_video(video_path, audio_path)"
   ]
  }
 ],
 "metadata": {
  "kernelspec": {
   "display_name": "ASR",
   "language": "python",
   "name": "python3"
  },
  "language_info": {
   "codemirror_mode": {
    "name": "ipython",
    "version": 3
   },
   "file_extension": ".py",
   "mimetype": "text/x-python",
   "name": "python",
   "nbconvert_exporter": "python",
   "pygments_lexer": "ipython3",
   "version": "3.11.9"
  }
 },
 "nbformat": 4,
 "nbformat_minor": 2
}
